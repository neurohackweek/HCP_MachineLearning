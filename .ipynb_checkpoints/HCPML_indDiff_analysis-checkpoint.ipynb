{
 "cells": [
  {
   "cell_type": "code",
   "execution_count": 2,
   "metadata": {
    "ExecuteTime": {
     "end_time": "2017-09-07T00:12:45.662609Z",
     "start_time": "2017-09-07T00:12:45.657645Z"
    }
   },
   "outputs": [],
   "source": [
    "from mvpa2.suite import *\n",
    "import os\n",
    "import platform\n",
    "import numpy as np\n",
    "import nibabel as nib\n",
    "import multiprocessing\n",
    "import pandas as pd"
   ]
  },
  {
   "cell_type": "markdown",
   "metadata": {
    "ExecuteTime": {
     "end_time": "2017-09-07T00:16:29.574752Z",
     "start_time": "2017-09-07T00:16:29.569546Z"
    }
   },
   "source": [
    "## Define variables"
   ]
  },
  {
   "cell_type": "code",
   "execution_count": 5,
   "metadata": {
    "ExecuteTime": {
     "end_time": "2017-09-07T00:13:40.101952Z",
     "start_time": "2017-09-07T00:13:40.098504Z"
    }
   },
   "outputs": [],
   "source": [
    "#enable output to console\n",
    "verbose.level = 2\n",
    "\n",
    "script_start_time = time.time()\n",
    "\n",
    "#define paths\n",
    "task      = 'WM' #motor, WM, gambling\n",
    "clf_name  = '2bkVs0bk' #lfvslh, multiclass (all 5 movements)\n",
    "if platform.node() == 'D-69-91-163-224.dhcp4.washington.edu':\n",
    "#if platform.node() == 'Patricks-MacBook-Pro.local':\n",
    "    data_path = os.path.join('/Volumes/maloneHD/Data/HCP_ML/', task)  # base directory (mac)\n",
    "    beta_path = os.path.join('/Volumes/maloneHD/Data_noSync/HCP_ML/', task, 'betas/')  # beta images\n",
    "else:\n",
    "    data_path = os.path.join('/media/malone/maloneHD/Data/HCP_ML/', task)  # base directory (linux)\n",
    "    beta_path = os.path.join('/media/malone/maloneHD/Data_noSync/HCP_ML/', task, 'betas/') #beta images\n",
    "\n",
    "mvpa_path = os.path.join(data_path,'mvpa',clf_name)\n",
    "parc_path = os.path.join(data_path,'parc') #parcellations\n",
    "\n",
    "#analysis parameters\n",
    "nsubs    = 100 #number of subjects\n",
    "nparc    = 360 #number of parcels/ROIs\n",
    "clf_type = 'SVM' #KNN, SVM\n",
    "knn_k    = round(np.sqrt(nsubs)) #k-nearest-neighbor parameter\n",
    "cv_type  = 'nfld' #split_half, LOSO (leave-one-subject-out), nfld (n-fold)\n",
    "targets  = ['2BK','0BK']\n",
    "pe_num   = ['9','10']\n",
    "#targets  = ['lf','lh','rf','rh','t'] #targets to be classified\n",
    "#pe_num   = ['2','3','4','5','6'] #parameter estimate numbers corresponding to targets\n",
    "\n",
    "#define subjects and mask\n",
    "subs       = os.listdir(beta_path)\n",
    "subs_train = subs[:nsubs]\n",
    "subs_test  = subs[nsubs:nsubs+30]\n",
    "surf_mask  = np.ones([1,59412]) #mask for cortical surface nodes, not subcortical/cerebellum volumetric voxels\n",
    "msk_path   = os.path.join(parc_path, 'Glasser_360.dtseries.nii')\n",
    "msk        = nib.load(msk_path)\n",
    "msk_data   = msk.get_data()\n",
    "msk_data   = msk_data[0, 0, 0, 0, 0, 0:]  #last dimension contains parcel data\n"
   ]
  },
  {
   "cell_type": "markdown",
   "metadata": {},
   "source": [
    "## Load and concatenate beta images vertically"
   ]
  },
  {
   "cell_type": "code",
   "execution_count": null,
   "metadata": {
    "collapsed": true
   },
   "outputs": [],
   "source": [
    "ds_all = []\n",
    "for index, s in enumerate(subs_train):\n",
    "    tds_beta_path = os.path.join(beta_path, s,\n",
    "                                 'MNINonLinear', 'Results', 'tfMRI_'+task,\n",
    "                                 'tfMRI_'+task+'_hp200_s2_level2.feat',\n",
    "                                 'GrayordinatesStats')\n",
    "    pe_paths = []\n",
    "    for p in pe_num:\n",
    "        pe_paths.append(os.path.join(tds_beta_path,\n",
    "                                     'cope'+p+'.feat','pe1.dtseries.nii'))\n",
    "\n",
    "    #ds = fmri_dataset(pe_paths,targets=targets,mask=surf_mask)\n",
    "    ds = fmri_dataset(pe_paths, targets=targets)\n",
    "\n",
    "    ds.sa['subject'] = np.repeat(index, len(ds))\n",
    "    #ds.fa['parcel']  = msk_data\n",
    "    ds_all.append(ds)\n",
    "    verbose(2, \"subject %i of %i loaded\" % (index, nsubs))\n",
    "\n",
    "fds = vstack(ds_all) #stack datasets"
   ]
  },
  {
   "cell_type": "markdown",
   "metadata": {
    "ExecuteTime": {
     "end_time": "2017-09-07T00:30:13.321212Z",
     "start_time": "2017-09-07T00:30:13.318475Z"
    }
   },
   "source": [
    "## Instantiate the classifier"
   ]
  },
  {
   "cell_type": "code",
   "execution_count": 11,
   "metadata": {
    "ExecuteTime": {
     "end_time": "2017-09-07T00:30:21.850330Z",
     "start_time": "2017-09-07T00:30:21.606848Z"
    },
    "collapsed": true
   },
   "outputs": [
    {
     "ename": "NameError",
     "evalue": "name 'clf_type' is not defined",
     "output_type": "error",
     "traceback": [
      "\u001b[0;31m---------------------------------------------------------------------------\u001b[0m",
      "\u001b[0;31mNameError\u001b[0m                                 Traceback (most recent call last)",
      "\u001b[0;32m<ipython-input-11-a64601f1b703>\u001b[0m in \u001b[0;36m<module>\u001b[0;34m()\u001b[0m\n\u001b[1;32m      1\u001b[0m \u001b[0;31m#classifier algorithm\u001b[0m\u001b[0;34m\u001b[0m\u001b[0;34m\u001b[0m\u001b[0m\n\u001b[0;32m----> 2\u001b[0;31m \u001b[0;32mif\u001b[0m \u001b[0mclf_type\u001b[0m \u001b[0;32mis\u001b[0m \u001b[0;34m'SVM'\u001b[0m\u001b[0;34m:\u001b[0m\u001b[0;34m\u001b[0m\u001b[0m\n\u001b[0m\u001b[1;32m      3\u001b[0m     \u001b[0mclf\u001b[0m \u001b[0;34m=\u001b[0m \u001b[0mLinearCSVMC\u001b[0m\u001b[0;34m(\u001b[0m\u001b[0;34m)\u001b[0m\u001b[0;34m\u001b[0m\u001b[0m\n\u001b[1;32m      4\u001b[0m \u001b[0;32melif\u001b[0m \u001b[0mclf_type\u001b[0m \u001b[0;32mis\u001b[0m \u001b[0;34m'KNN'\u001b[0m\u001b[0;34m:\u001b[0m\u001b[0;34m\u001b[0m\u001b[0m\n\u001b[1;32m      5\u001b[0m     \u001b[0mclf\u001b[0m \u001b[0;34m=\u001b[0m \u001b[0mkNN\u001b[0m\u001b[0;34m(\u001b[0m\u001b[0mk\u001b[0m\u001b[0;34m=\u001b[0m\u001b[0mknn_k\u001b[0m\u001b[0;34m,\u001b[0m \u001b[0mvoting\u001b[0m\u001b[0;34m=\u001b[0m\u001b[0;34m'weighted'\u001b[0m\u001b[0;34m)\u001b[0m\u001b[0;34m\u001b[0m\u001b[0m\n",
      "\u001b[0;31mNameError\u001b[0m: name 'clf_type' is not defined"
     ]
    }
   ],
   "source": [
    "#classifier algorithm\n",
    "if clf_type is 'SVM':\n",
    "    clf = LinearCSVMC()\n",
    "elif clf_type is 'KNN':\n",
    "    clf = kNN(k=knn_k, voting='weighted')\n",
    "    \n",
    "#cross-validation algorithm\n",
    "if cv_type is 'split_half':\n",
    "    cv = CrossValidation(clf,\n",
    "                         HalfPartitioner(count=2,\n",
    "                                         selection_strategy='random', attr='subject'),\n",
    "                         errorfx=mean_match_accuracy)\n",
    "elif cv_type is 'LOSO':\n",
    "    cv = CrossValidation(clf,\n",
    "                         NFoldPartitioner(attr='subject'),\n",
    "                         errorfx=mean_match_accuracy)\n",
    "elif cv_type is 'nfld':\n",
    "    cv = CrossValidation(clf,\n",
    "                         NFoldPartitioner(count=5,\n",
    "                                         selection_strategy='random', attr='subject'),\n",
    "                         errorfx=mean_match_accuracy)"
   ]
  },
  {
   "cell_type": "markdown",
   "metadata": {},
   "source": [
    "## Run classification on the development sample"
   ]
  },
  {
   "cell_type": "code",
   "execution_count": null,
   "metadata": {
    "collapsed": true
   },
   "outputs": [],
   "source": [
    "parc       = range(1,nparc+1)\n",
    "cv_results = [0 for x in parc]\n",
    "num_cores  = multiprocessing.cpu_count()\n",
    "\n",
    "#whole brain clf\n",
    "cv_out = cv(fds)\n",
    "#roi-wise clf\n",
    "# cv_results = Parallel(n_jobs=num_cores)(delayed(runCV.runCV)\n",
    "#                                         (p,fds[:, fds.fa.parcel == p],clf,cv,nparc) for p in parc)"
   ]
  },
  {
   "cell_type": "markdown",
   "metadata": {},
   "source": [
    "## Extract feature weights to generate a predictive map"
   ]
  },
  {
   "cell_type": "code",
   "execution_count": null,
   "metadata": {
    "collapsed": true
   },
   "outputs": [],
   "source": [
    "#get feature weights\n",
    "sensana = clf.get_sensitivity_analyzer()\n",
    "sens    = sensana(fds)\n",
    "\n",
    "#convert feature weights to numpy array and save\n",
    "sens_out = np.asarray(sens)\n",
    "np.save(os.path.join(mvpa_path,'cv_results',str(nsubs)+'subs_'+cv_type+'_CV_'+clf_type+'ftrWghts'),\n",
    "        sens_out)"
   ]
  },
  {
   "cell_type": "markdown",
   "metadata": {
    "ExecuteTime": {
     "end_time": "2017-09-07T00:33:55.904093Z",
     "start_time": "2017-09-07T00:33:55.900481Z"
    }
   },
   "source": [
    "## Calculate the dot product of the predictive map and FX beta maps from subjects in the validation sample"
   ]
  },
  {
   "cell_type": "code",
   "execution_count": null,
   "metadata": {
    "collapsed": true
   },
   "outputs": [],
   "source": [
    "#feature weights x 2bk>0bk beta map\n",
    "dp = np.zeros([len(subs_test),1])\n",
    "for index, s in enumerate(subs_test):\n",
    "    path = os.path.join(beta_path, s,\n",
    "                                 'MNINonLinear', 'Results', 'tfMRI_'+task,\n",
    "                                 'tfMRI_'+task+'_hp200_s2_level2.feat',\n",
    "                                 'GrayordinatesStats','cope11.feat','pe1.dtseries.nii')\n",
    "    beta_map  = nib.load(path)\n",
    "    beta_map  = np.array(beta_map.dataobj)\n",
    "    beta_map  = beta_map[0, 0, 0, 0, :, 0:]\n",
    "    dp[index] = np.dot(sens_out,beta_map.transpose())"
   ]
  },
  {
   "cell_type": "markdown",
   "metadata": {},
   "source": [
    "## Load behavioral data"
   ]
  },
  {
   "cell_type": "code",
   "execution_count": null,
   "metadata": {
    "collapsed": true
   },
   "outputs": [],
   "source": [
    "df    = pd.read_csv('HCP_behavioraldata.csv')\n",
    "subs  = [int(s) for s in subs_test] #convert str to int\n",
    "df2   = df.loc[df['Subject'].isin(subs_test)]\n",
    "bdata = df2.ListSort_AgeAdj\n",
    "bdata = bdata.reshape(30,1)\n",
    "\n",
    "verbose(2, \"total script computation time: %.1f minutes\" % ((time.time() - script_start_time)/60))\n"
   ]
  },
  {
   "cell_type": "markdown",
   "metadata": {},
   "source": [
    "## Correlate behavioral data with dot product for subject in the validation sample"
   ]
  },
  {
   "cell_type": "code",
   "execution_count": null,
   "metadata": {
    "collapsed": true
   },
   "outputs": [],
   "source": []
  }
 ],
 "metadata": {
  "kernelspec": {
   "display_name": "Python 3",
   "language": "python",
   "name": "python3"
  },
  "language_info": {
   "codemirror_mode": {
    "name": "ipython",
    "version": 3
   },
   "file_extension": ".py",
   "mimetype": "text/x-python",
   "name": "python",
   "nbconvert_exporter": "python",
   "pygments_lexer": "ipython3",
   "version": "3.6.0"
  },
  "toc": {
   "nav_menu": {},
   "number_sections": true,
   "sideBar": true,
   "skip_h1_title": false,
   "toc_cell": false,
   "toc_position": {},
   "toc_section_display": "block",
   "toc_window_display": false
  }
 },
 "nbformat": 4,
 "nbformat_minor": 2
}
